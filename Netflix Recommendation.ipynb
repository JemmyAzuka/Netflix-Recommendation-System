{
 "cells": [
  {
   "cell_type": "markdown",
   "id": "80e42da1-ec9b-4937-99e5-7277130fa165",
   "metadata": {},
   "source": [
    "## Import Libraries"
   ]
  },
  {
   "cell_type": "code",
   "execution_count": 1,
   "id": "f4c6396a-e671-4b30-98d9-a87d15538f67",
   "metadata": {},
   "outputs": [],
   "source": [
    "import pandas as pd\n",
    "import numpy as np\n",
    "import re\n",
    "import nltk"
   ]
  },
  {
   "cell_type": "markdown",
   "id": "a2415f8f-e264-445d-813a-1f44718837f6",
   "metadata": {},
   "source": [
    "## Import Dataset"
   ]
  },
  {
   "cell_type": "code",
   "execution_count": 2,
   "id": "c0530cf5-0bb6-4c15-9343-1dfd450ce47d",
   "metadata": {
    "tags": []
   },
   "outputs": [],
   "source": [
    "df = pd.read_csv('../Netflix Recommendation System/netflix_titles.csv')"
   ]
  },
  {
   "cell_type": "code",
   "execution_count": 3,
   "id": "39b57198-54dc-4a57-ae33-fc41f8a9450f",
   "metadata": {
    "tags": []
   },
   "outputs": [
    {
     "data": {
      "text/html": [
       "<div>\n",
       "<style scoped>\n",
       "    .dataframe tbody tr th:only-of-type {\n",
       "        vertical-align: middle;\n",
       "    }\n",
       "\n",
       "    .dataframe tbody tr th {\n",
       "        vertical-align: top;\n",
       "    }\n",
       "\n",
       "    .dataframe thead th {\n",
       "        text-align: right;\n",
       "    }\n",
       "</style>\n",
       "<table border=\"1\" class=\"dataframe\">\n",
       "  <thead>\n",
       "    <tr style=\"text-align: right;\">\n",
       "      <th></th>\n",
       "      <th>show_id</th>\n",
       "      <th>type</th>\n",
       "      <th>title</th>\n",
       "      <th>director</th>\n",
       "      <th>cast</th>\n",
       "      <th>country</th>\n",
       "      <th>date_added</th>\n",
       "      <th>release_year</th>\n",
       "      <th>rating</th>\n",
       "      <th>duration</th>\n",
       "      <th>listed_in</th>\n",
       "      <th>description</th>\n",
       "    </tr>\n",
       "  </thead>\n",
       "  <tbody>\n",
       "    <tr>\n",
       "      <th>0</th>\n",
       "      <td>s1</td>\n",
       "      <td>Movie</td>\n",
       "      <td>Dick Johnson Is Dead</td>\n",
       "      <td>Kirsten Johnson</td>\n",
       "      <td>NaN</td>\n",
       "      <td>United States</td>\n",
       "      <td>September 25, 2021</td>\n",
       "      <td>2020</td>\n",
       "      <td>PG-13</td>\n",
       "      <td>90 min</td>\n",
       "      <td>Documentaries</td>\n",
       "      <td>As her father nears the end of his life, filmm...</td>\n",
       "    </tr>\n",
       "    <tr>\n",
       "      <th>1</th>\n",
       "      <td>s2</td>\n",
       "      <td>TV Show</td>\n",
       "      <td>Blood &amp; Water</td>\n",
       "      <td>NaN</td>\n",
       "      <td>Ama Qamata, Khosi Ngema, Gail Mabalane, Thaban...</td>\n",
       "      <td>South Africa</td>\n",
       "      <td>September 24, 2021</td>\n",
       "      <td>2021</td>\n",
       "      <td>TV-MA</td>\n",
       "      <td>2 Seasons</td>\n",
       "      <td>International TV Shows, TV Dramas, TV Mysteries</td>\n",
       "      <td>After crossing paths at a party, a Cape Town t...</td>\n",
       "    </tr>\n",
       "    <tr>\n",
       "      <th>2</th>\n",
       "      <td>s3</td>\n",
       "      <td>TV Show</td>\n",
       "      <td>Ganglands</td>\n",
       "      <td>Julien Leclercq</td>\n",
       "      <td>Sami Bouajila, Tracy Gotoas, Samuel Jouy, Nabi...</td>\n",
       "      <td>NaN</td>\n",
       "      <td>September 24, 2021</td>\n",
       "      <td>2021</td>\n",
       "      <td>TV-MA</td>\n",
       "      <td>1 Season</td>\n",
       "      <td>Crime TV Shows, International TV Shows, TV Act...</td>\n",
       "      <td>To protect his family from a powerful drug lor...</td>\n",
       "    </tr>\n",
       "    <tr>\n",
       "      <th>3</th>\n",
       "      <td>s4</td>\n",
       "      <td>TV Show</td>\n",
       "      <td>Jailbirds New Orleans</td>\n",
       "      <td>NaN</td>\n",
       "      <td>NaN</td>\n",
       "      <td>NaN</td>\n",
       "      <td>September 24, 2021</td>\n",
       "      <td>2021</td>\n",
       "      <td>TV-MA</td>\n",
       "      <td>1 Season</td>\n",
       "      <td>Docuseries, Reality TV</td>\n",
       "      <td>Feuds, flirtations and toilet talk go down amo...</td>\n",
       "    </tr>\n",
       "    <tr>\n",
       "      <th>4</th>\n",
       "      <td>s5</td>\n",
       "      <td>TV Show</td>\n",
       "      <td>Kota Factory</td>\n",
       "      <td>NaN</td>\n",
       "      <td>Mayur More, Jitendra Kumar, Ranjan Raj, Alam K...</td>\n",
       "      <td>India</td>\n",
       "      <td>September 24, 2021</td>\n",
       "      <td>2021</td>\n",
       "      <td>TV-MA</td>\n",
       "      <td>2 Seasons</td>\n",
       "      <td>International TV Shows, Romantic TV Shows, TV ...</td>\n",
       "      <td>In a city of coaching centers known to train I...</td>\n",
       "    </tr>\n",
       "    <tr>\n",
       "      <th>...</th>\n",
       "      <td>...</td>\n",
       "      <td>...</td>\n",
       "      <td>...</td>\n",
       "      <td>...</td>\n",
       "      <td>...</td>\n",
       "      <td>...</td>\n",
       "      <td>...</td>\n",
       "      <td>...</td>\n",
       "      <td>...</td>\n",
       "      <td>...</td>\n",
       "      <td>...</td>\n",
       "      <td>...</td>\n",
       "    </tr>\n",
       "    <tr>\n",
       "      <th>8802</th>\n",
       "      <td>s8803</td>\n",
       "      <td>Movie</td>\n",
       "      <td>Zodiac</td>\n",
       "      <td>David Fincher</td>\n",
       "      <td>Mark Ruffalo, Jake Gyllenhaal, Robert Downey J...</td>\n",
       "      <td>United States</td>\n",
       "      <td>November 20, 2019</td>\n",
       "      <td>2007</td>\n",
       "      <td>R</td>\n",
       "      <td>158 min</td>\n",
       "      <td>Cult Movies, Dramas, Thrillers</td>\n",
       "      <td>A political cartoonist, a crime reporter and a...</td>\n",
       "    </tr>\n",
       "    <tr>\n",
       "      <th>8803</th>\n",
       "      <td>s8804</td>\n",
       "      <td>TV Show</td>\n",
       "      <td>Zombie Dumb</td>\n",
       "      <td>NaN</td>\n",
       "      <td>NaN</td>\n",
       "      <td>NaN</td>\n",
       "      <td>July 1, 2019</td>\n",
       "      <td>2018</td>\n",
       "      <td>TV-Y7</td>\n",
       "      <td>2 Seasons</td>\n",
       "      <td>Kids' TV, Korean TV Shows, TV Comedies</td>\n",
       "      <td>While living alone in a spooky town, a young g...</td>\n",
       "    </tr>\n",
       "    <tr>\n",
       "      <th>8804</th>\n",
       "      <td>s8805</td>\n",
       "      <td>Movie</td>\n",
       "      <td>Zombieland</td>\n",
       "      <td>Ruben Fleischer</td>\n",
       "      <td>Jesse Eisenberg, Woody Harrelson, Emma Stone, ...</td>\n",
       "      <td>United States</td>\n",
       "      <td>November 1, 2019</td>\n",
       "      <td>2009</td>\n",
       "      <td>R</td>\n",
       "      <td>88 min</td>\n",
       "      <td>Comedies, Horror Movies</td>\n",
       "      <td>Looking to survive in a world taken over by zo...</td>\n",
       "    </tr>\n",
       "    <tr>\n",
       "      <th>8805</th>\n",
       "      <td>s8806</td>\n",
       "      <td>Movie</td>\n",
       "      <td>Zoom</td>\n",
       "      <td>Peter Hewitt</td>\n",
       "      <td>Tim Allen, Courteney Cox, Chevy Chase, Kate Ma...</td>\n",
       "      <td>United States</td>\n",
       "      <td>January 11, 2020</td>\n",
       "      <td>2006</td>\n",
       "      <td>PG</td>\n",
       "      <td>88 min</td>\n",
       "      <td>Children &amp; Family Movies, Comedies</td>\n",
       "      <td>Dragged from civilian life, a former superhero...</td>\n",
       "    </tr>\n",
       "    <tr>\n",
       "      <th>8806</th>\n",
       "      <td>s8807</td>\n",
       "      <td>Movie</td>\n",
       "      <td>Zubaan</td>\n",
       "      <td>Mozez Singh</td>\n",
       "      <td>Vicky Kaushal, Sarah-Jane Dias, Raaghav Chanan...</td>\n",
       "      <td>India</td>\n",
       "      <td>March 2, 2019</td>\n",
       "      <td>2015</td>\n",
       "      <td>TV-14</td>\n",
       "      <td>111 min</td>\n",
       "      <td>Dramas, International Movies, Music &amp; Musicals</td>\n",
       "      <td>A scrappy but poor boy worms his way into a ty...</td>\n",
       "    </tr>\n",
       "  </tbody>\n",
       "</table>\n",
       "<p>8807 rows × 12 columns</p>\n",
       "</div>"
      ],
      "text/plain": [
       "     show_id     type                  title         director  \\\n",
       "0         s1    Movie   Dick Johnson Is Dead  Kirsten Johnson   \n",
       "1         s2  TV Show          Blood & Water              NaN   \n",
       "2         s3  TV Show              Ganglands  Julien Leclercq   \n",
       "3         s4  TV Show  Jailbirds New Orleans              NaN   \n",
       "4         s5  TV Show           Kota Factory              NaN   \n",
       "...      ...      ...                    ...              ...   \n",
       "8802   s8803    Movie                 Zodiac    David Fincher   \n",
       "8803   s8804  TV Show            Zombie Dumb              NaN   \n",
       "8804   s8805    Movie             Zombieland  Ruben Fleischer   \n",
       "8805   s8806    Movie                   Zoom     Peter Hewitt   \n",
       "8806   s8807    Movie                 Zubaan      Mozez Singh   \n",
       "\n",
       "                                                   cast        country  \\\n",
       "0                                                   NaN  United States   \n",
       "1     Ama Qamata, Khosi Ngema, Gail Mabalane, Thaban...   South Africa   \n",
       "2     Sami Bouajila, Tracy Gotoas, Samuel Jouy, Nabi...            NaN   \n",
       "3                                                   NaN            NaN   \n",
       "4     Mayur More, Jitendra Kumar, Ranjan Raj, Alam K...          India   \n",
       "...                                                 ...            ...   \n",
       "8802  Mark Ruffalo, Jake Gyllenhaal, Robert Downey J...  United States   \n",
       "8803                                                NaN            NaN   \n",
       "8804  Jesse Eisenberg, Woody Harrelson, Emma Stone, ...  United States   \n",
       "8805  Tim Allen, Courteney Cox, Chevy Chase, Kate Ma...  United States   \n",
       "8806  Vicky Kaushal, Sarah-Jane Dias, Raaghav Chanan...          India   \n",
       "\n",
       "              date_added  release_year rating   duration  \\\n",
       "0     September 25, 2021          2020  PG-13     90 min   \n",
       "1     September 24, 2021          2021  TV-MA  2 Seasons   \n",
       "2     September 24, 2021          2021  TV-MA   1 Season   \n",
       "3     September 24, 2021          2021  TV-MA   1 Season   \n",
       "4     September 24, 2021          2021  TV-MA  2 Seasons   \n",
       "...                  ...           ...    ...        ...   \n",
       "8802   November 20, 2019          2007      R    158 min   \n",
       "8803        July 1, 2019          2018  TV-Y7  2 Seasons   \n",
       "8804    November 1, 2019          2009      R     88 min   \n",
       "8805    January 11, 2020          2006     PG     88 min   \n",
       "8806       March 2, 2019          2015  TV-14    111 min   \n",
       "\n",
       "                                              listed_in  \\\n",
       "0                                         Documentaries   \n",
       "1       International TV Shows, TV Dramas, TV Mysteries   \n",
       "2     Crime TV Shows, International TV Shows, TV Act...   \n",
       "3                                Docuseries, Reality TV   \n",
       "4     International TV Shows, Romantic TV Shows, TV ...   \n",
       "...                                                 ...   \n",
       "8802                     Cult Movies, Dramas, Thrillers   \n",
       "8803             Kids' TV, Korean TV Shows, TV Comedies   \n",
       "8804                            Comedies, Horror Movies   \n",
       "8805                 Children & Family Movies, Comedies   \n",
       "8806     Dramas, International Movies, Music & Musicals   \n",
       "\n",
       "                                            description  \n",
       "0     As her father nears the end of his life, filmm...  \n",
       "1     After crossing paths at a party, a Cape Town t...  \n",
       "2     To protect his family from a powerful drug lor...  \n",
       "3     Feuds, flirtations and toilet talk go down amo...  \n",
       "4     In a city of coaching centers known to train I...  \n",
       "...                                                 ...  \n",
       "8802  A political cartoonist, a crime reporter and a...  \n",
       "8803  While living alone in a spooky town, a young g...  \n",
       "8804  Looking to survive in a world taken over by zo...  \n",
       "8805  Dragged from civilian life, a former superhero...  \n",
       "8806  A scrappy but poor boy worms his way into a ty...  \n",
       "\n",
       "[8807 rows x 12 columns]"
      ]
     },
     "execution_count": 3,
     "metadata": {},
     "output_type": "execute_result"
    }
   ],
   "source": [
    "df"
   ]
  },
  {
   "cell_type": "code",
   "execution_count": 4,
   "id": "0769a1c4-06cc-49f3-aa0d-42ac56c00c2d",
   "metadata": {
    "tags": []
   },
   "outputs": [
    {
     "data": {
      "text/plain": [
       "Index(['show_id', 'type', 'title', 'director', 'cast', 'country', 'date_added',\n",
       "       'release_year', 'rating', 'duration', 'listed_in', 'description'],\n",
       "      dtype='object')"
      ]
     },
     "execution_count": 4,
     "metadata": {},
     "output_type": "execute_result"
    }
   ],
   "source": [
    "df.columns"
   ]
  },
  {
   "cell_type": "code",
   "execution_count": 5,
   "id": "d270b101-d2e8-4140-a2f1-1e48b3376853",
   "metadata": {
    "tags": []
   },
   "outputs": [
    {
     "data": {
      "text/plain": [
       "0     Dick Johnson Is Dead\n",
       "1            Blood & Water\n",
       "2                Ganglands\n",
       "3    Jailbirds New Orleans\n",
       "4             Kota Factory\n",
       "Name: title, dtype: object"
      ]
     },
     "execution_count": 5,
     "metadata": {},
     "output_type": "execute_result"
    }
   ],
   "source": [
    "df['title'].head()"
   ]
  },
  {
   "cell_type": "code",
   "execution_count": 6,
   "id": "1d8b6768-eaca-4535-bc90-f9e46a4798e5",
   "metadata": {
    "tags": []
   },
   "outputs": [
    {
     "data": {
      "text/plain": [
       "0    Kirsten Johnson\n",
       "1                NaN\n",
       "2    Julien Leclercq\n",
       "3                NaN\n",
       "4                NaN\n",
       "Name: director, dtype: object"
      ]
     },
     "execution_count": 6,
     "metadata": {},
     "output_type": "execute_result"
    }
   ],
   "source": [
    "df['director'].head()"
   ]
  },
  {
   "cell_type": "markdown",
   "id": "1b5e934c-0b6e-41c5-8027-73c536fc3868",
   "metadata": {},
   "source": [
    "## Finding the Missing Values"
   ]
  },
  {
   "cell_type": "code",
   "execution_count": 7,
   "id": "bb98e55f-7468-42c5-b1ef-a1513edb323b",
   "metadata": {
    "tags": []
   },
   "outputs": [
    {
     "data": {
      "text/plain": [
       "show_id            0\n",
       "type               0\n",
       "title              0\n",
       "director        2634\n",
       "cast             825\n",
       "country          831\n",
       "date_added        10\n",
       "release_year       0\n",
       "rating             4\n",
       "duration           3\n",
       "listed_in          0\n",
       "description        0\n",
       "dtype: int64"
      ]
     },
     "execution_count": 7,
     "metadata": {},
     "output_type": "execute_result"
    }
   ],
   "source": [
    "df.isnull().sum()"
   ]
  },
  {
   "cell_type": "code",
   "execution_count": 8,
   "id": "364ee03e-b173-41f7-b4f8-26a4e6f2be25",
   "metadata": {
    "tags": []
   },
   "outputs": [
    {
     "data": {
      "text/html": [
       "<div>\n",
       "<style scoped>\n",
       "    .dataframe tbody tr th:only-of-type {\n",
       "        vertical-align: middle;\n",
       "    }\n",
       "\n",
       "    .dataframe tbody tr th {\n",
       "        vertical-align: top;\n",
       "    }\n",
       "\n",
       "    .dataframe thead th {\n",
       "        text-align: right;\n",
       "    }\n",
       "</style>\n",
       "<table border=\"1\" class=\"dataframe\">\n",
       "  <thead>\n",
       "    <tr style=\"text-align: right;\">\n",
       "      <th></th>\n",
       "      <th>show_id</th>\n",
       "      <th>type</th>\n",
       "      <th>title</th>\n",
       "      <th>director</th>\n",
       "      <th>cast</th>\n",
       "      <th>country</th>\n",
       "      <th>date_added</th>\n",
       "      <th>release_year</th>\n",
       "      <th>rating</th>\n",
       "      <th>duration</th>\n",
       "      <th>listed_in</th>\n",
       "      <th>description</th>\n",
       "    </tr>\n",
       "  </thead>\n",
       "  <tbody>\n",
       "    <tr>\n",
       "      <th>count</th>\n",
       "      <td>8807</td>\n",
       "      <td>8807</td>\n",
       "      <td>8807</td>\n",
       "      <td>6173</td>\n",
       "      <td>7982</td>\n",
       "      <td>7976</td>\n",
       "      <td>8797</td>\n",
       "      <td>8807.000000</td>\n",
       "      <td>8803</td>\n",
       "      <td>8804</td>\n",
       "      <td>8807</td>\n",
       "      <td>8807</td>\n",
       "    </tr>\n",
       "    <tr>\n",
       "      <th>unique</th>\n",
       "      <td>8807</td>\n",
       "      <td>2</td>\n",
       "      <td>8807</td>\n",
       "      <td>4528</td>\n",
       "      <td>7692</td>\n",
       "      <td>748</td>\n",
       "      <td>1767</td>\n",
       "      <td>NaN</td>\n",
       "      <td>17</td>\n",
       "      <td>220</td>\n",
       "      <td>514</td>\n",
       "      <td>8775</td>\n",
       "    </tr>\n",
       "    <tr>\n",
       "      <th>top</th>\n",
       "      <td>s1</td>\n",
       "      <td>Movie</td>\n",
       "      <td>Dick Johnson Is Dead</td>\n",
       "      <td>Rajiv Chilaka</td>\n",
       "      <td>David Attenborough</td>\n",
       "      <td>United States</td>\n",
       "      <td>January 1, 2020</td>\n",
       "      <td>NaN</td>\n",
       "      <td>TV-MA</td>\n",
       "      <td>1 Season</td>\n",
       "      <td>Dramas, International Movies</td>\n",
       "      <td>Paranormal activity at a lush, abandoned prope...</td>\n",
       "    </tr>\n",
       "    <tr>\n",
       "      <th>freq</th>\n",
       "      <td>1</td>\n",
       "      <td>6131</td>\n",
       "      <td>1</td>\n",
       "      <td>19</td>\n",
       "      <td>19</td>\n",
       "      <td>2818</td>\n",
       "      <td>109</td>\n",
       "      <td>NaN</td>\n",
       "      <td>3207</td>\n",
       "      <td>1793</td>\n",
       "      <td>362</td>\n",
       "      <td>4</td>\n",
       "    </tr>\n",
       "    <tr>\n",
       "      <th>mean</th>\n",
       "      <td>NaN</td>\n",
       "      <td>NaN</td>\n",
       "      <td>NaN</td>\n",
       "      <td>NaN</td>\n",
       "      <td>NaN</td>\n",
       "      <td>NaN</td>\n",
       "      <td>NaN</td>\n",
       "      <td>2014.180198</td>\n",
       "      <td>NaN</td>\n",
       "      <td>NaN</td>\n",
       "      <td>NaN</td>\n",
       "      <td>NaN</td>\n",
       "    </tr>\n",
       "    <tr>\n",
       "      <th>std</th>\n",
       "      <td>NaN</td>\n",
       "      <td>NaN</td>\n",
       "      <td>NaN</td>\n",
       "      <td>NaN</td>\n",
       "      <td>NaN</td>\n",
       "      <td>NaN</td>\n",
       "      <td>NaN</td>\n",
       "      <td>8.819312</td>\n",
       "      <td>NaN</td>\n",
       "      <td>NaN</td>\n",
       "      <td>NaN</td>\n",
       "      <td>NaN</td>\n",
       "    </tr>\n",
       "    <tr>\n",
       "      <th>min</th>\n",
       "      <td>NaN</td>\n",
       "      <td>NaN</td>\n",
       "      <td>NaN</td>\n",
       "      <td>NaN</td>\n",
       "      <td>NaN</td>\n",
       "      <td>NaN</td>\n",
       "      <td>NaN</td>\n",
       "      <td>1925.000000</td>\n",
       "      <td>NaN</td>\n",
       "      <td>NaN</td>\n",
       "      <td>NaN</td>\n",
       "      <td>NaN</td>\n",
       "    </tr>\n",
       "    <tr>\n",
       "      <th>25%</th>\n",
       "      <td>NaN</td>\n",
       "      <td>NaN</td>\n",
       "      <td>NaN</td>\n",
       "      <td>NaN</td>\n",
       "      <td>NaN</td>\n",
       "      <td>NaN</td>\n",
       "      <td>NaN</td>\n",
       "      <td>2013.000000</td>\n",
       "      <td>NaN</td>\n",
       "      <td>NaN</td>\n",
       "      <td>NaN</td>\n",
       "      <td>NaN</td>\n",
       "    </tr>\n",
       "    <tr>\n",
       "      <th>50%</th>\n",
       "      <td>NaN</td>\n",
       "      <td>NaN</td>\n",
       "      <td>NaN</td>\n",
       "      <td>NaN</td>\n",
       "      <td>NaN</td>\n",
       "      <td>NaN</td>\n",
       "      <td>NaN</td>\n",
       "      <td>2017.000000</td>\n",
       "      <td>NaN</td>\n",
       "      <td>NaN</td>\n",
       "      <td>NaN</td>\n",
       "      <td>NaN</td>\n",
       "    </tr>\n",
       "    <tr>\n",
       "      <th>75%</th>\n",
       "      <td>NaN</td>\n",
       "      <td>NaN</td>\n",
       "      <td>NaN</td>\n",
       "      <td>NaN</td>\n",
       "      <td>NaN</td>\n",
       "      <td>NaN</td>\n",
       "      <td>NaN</td>\n",
       "      <td>2019.000000</td>\n",
       "      <td>NaN</td>\n",
       "      <td>NaN</td>\n",
       "      <td>NaN</td>\n",
       "      <td>NaN</td>\n",
       "    </tr>\n",
       "    <tr>\n",
       "      <th>max</th>\n",
       "      <td>NaN</td>\n",
       "      <td>NaN</td>\n",
       "      <td>NaN</td>\n",
       "      <td>NaN</td>\n",
       "      <td>NaN</td>\n",
       "      <td>NaN</td>\n",
       "      <td>NaN</td>\n",
       "      <td>2021.000000</td>\n",
       "      <td>NaN</td>\n",
       "      <td>NaN</td>\n",
       "      <td>NaN</td>\n",
       "      <td>NaN</td>\n",
       "    </tr>\n",
       "  </tbody>\n",
       "</table>\n",
       "</div>"
      ],
      "text/plain": [
       "       show_id   type                 title       director  \\\n",
       "count     8807   8807                  8807           6173   \n",
       "unique    8807      2                  8807           4528   \n",
       "top         s1  Movie  Dick Johnson Is Dead  Rajiv Chilaka   \n",
       "freq         1   6131                     1             19   \n",
       "mean       NaN    NaN                   NaN            NaN   \n",
       "std        NaN    NaN                   NaN            NaN   \n",
       "min        NaN    NaN                   NaN            NaN   \n",
       "25%        NaN    NaN                   NaN            NaN   \n",
       "50%        NaN    NaN                   NaN            NaN   \n",
       "75%        NaN    NaN                   NaN            NaN   \n",
       "max        NaN    NaN                   NaN            NaN   \n",
       "\n",
       "                      cast        country       date_added  release_year  \\\n",
       "count                 7982           7976             8797   8807.000000   \n",
       "unique                7692            748             1767           NaN   \n",
       "top     David Attenborough  United States  January 1, 2020           NaN   \n",
       "freq                    19           2818              109           NaN   \n",
       "mean                   NaN            NaN              NaN   2014.180198   \n",
       "std                    NaN            NaN              NaN      8.819312   \n",
       "min                    NaN            NaN              NaN   1925.000000   \n",
       "25%                    NaN            NaN              NaN   2013.000000   \n",
       "50%                    NaN            NaN              NaN   2017.000000   \n",
       "75%                    NaN            NaN              NaN   2019.000000   \n",
       "max                    NaN            NaN              NaN   2021.000000   \n",
       "\n",
       "       rating  duration                     listed_in  \\\n",
       "count    8803      8804                          8807   \n",
       "unique     17       220                           514   \n",
       "top     TV-MA  1 Season  Dramas, International Movies   \n",
       "freq     3207      1793                           362   \n",
       "mean      NaN       NaN                           NaN   \n",
       "std       NaN       NaN                           NaN   \n",
       "min       NaN       NaN                           NaN   \n",
       "25%       NaN       NaN                           NaN   \n",
       "50%       NaN       NaN                           NaN   \n",
       "75%       NaN       NaN                           NaN   \n",
       "max       NaN       NaN                           NaN   \n",
       "\n",
       "                                              description  \n",
       "count                                                8807  \n",
       "unique                                               8775  \n",
       "top     Paranormal activity at a lush, abandoned prope...  \n",
       "freq                                                    4  \n",
       "mean                                                  NaN  \n",
       "std                                                   NaN  \n",
       "min                                                   NaN  \n",
       "25%                                                   NaN  \n",
       "50%                                                   NaN  \n",
       "75%                                                   NaN  \n",
       "max                                                   NaN  "
      ]
     },
     "execution_count": 8,
     "metadata": {},
     "output_type": "execute_result"
    }
   ],
   "source": [
    "df.describe(include='all')"
   ]
  },
  {
   "cell_type": "code",
   "execution_count": 9,
   "id": "020c6415-165f-45de-923e-a1f602b8d57d",
   "metadata": {
    "tags": []
   },
   "outputs": [
    {
     "name": "stdout",
     "output_type": "stream",
     "text": [
      "<class 'pandas.core.frame.DataFrame'>\n",
      "RangeIndex: 8807 entries, 0 to 8806\n",
      "Data columns (total 12 columns):\n",
      " #   Column        Non-Null Count  Dtype \n",
      "---  ------        --------------  ----- \n",
      " 0   show_id       8807 non-null   object\n",
      " 1   type          8807 non-null   object\n",
      " 2   title         8807 non-null   object\n",
      " 3   director      6173 non-null   object\n",
      " 4   cast          7982 non-null   object\n",
      " 5   country       7976 non-null   object\n",
      " 6   date_added    8797 non-null   object\n",
      " 7   release_year  8807 non-null   int64 \n",
      " 8   rating        8803 non-null   object\n",
      " 9   duration      8804 non-null   object\n",
      " 10  listed_in     8807 non-null   object\n",
      " 11  description   8807 non-null   object\n",
      "dtypes: int64(1), object(11)\n",
      "memory usage: 825.8+ KB\n"
     ]
    }
   ],
   "source": [
    "df.info()"
   ]
  },
  {
   "cell_type": "markdown",
   "id": "e119641a-a5e3-4b9b-acf6-c2a8ce626bff",
   "metadata": {},
   "source": [
    "## Data Cleansing"
   ]
  },
  {
   "cell_type": "code",
   "execution_count": 10,
   "id": "308966b6-1f68-417d-b8f9-116fcb993dfa",
   "metadata": {
    "tags": []
   },
   "outputs": [
    {
     "name": "stdout",
     "output_type": "stream",
     "text": [
      "<class 'pandas.core.frame.DataFrame'>\n",
      "RangeIndex: 8807 entries, 0 to 8806\n",
      "Data columns (total 6 columns):\n",
      " #   Column       Non-Null Count  Dtype \n",
      "---  ------       --------------  ----- \n",
      " 0   title        8807 non-null   object\n",
      " 1   director     6173 non-null   object\n",
      " 2   cast         7982 non-null   object\n",
      " 3   listed_in    8807 non-null   object\n",
      " 4   description  8807 non-null   object\n",
      " 5   movie_info   8807 non-null   object\n",
      "dtypes: object(6)\n",
      "memory usage: 413.0+ KB\n"
     ]
    },
    {
     "name": "stderr",
     "output_type": "stream",
     "text": [
      "C:\\Users\\Lenovo\\AppData\\Local\\Temp\\ipykernel_31828\\2368920525.py:2: SettingWithCopyWarning: \n",
      "A value is trying to be set on a copy of a slice from a DataFrame.\n",
      "Try using .loc[row_indexer,col_indexer] = value instead\n",
      "\n",
      "See the caveats in the documentation: https://pandas.pydata.org/pandas-docs/stable/user_guide/indexing.html#returning-a-view-versus-a-copy\n",
      "  df['movie_info'] = df['title'] + ': ' + df['description']\n"
     ]
    }
   ],
   "source": [
    "df = df[['title', 'director', 'cast', 'listed_in', 'description']]\n",
    "df['movie_info'] = df['title'] + ': ' + df['description']\n",
    "df.dropna\n",
    "df.info()"
   ]
  },
  {
   "cell_type": "code",
   "execution_count": 11,
   "id": "b3e1758e-2954-4e86-ab18-4deeb394ea2e",
   "metadata": {
    "tags": []
   },
   "outputs": [
    {
     "data": {
      "text/html": [
       "<div>\n",
       "<style scoped>\n",
       "    .dataframe tbody tr th:only-of-type {\n",
       "        vertical-align: middle;\n",
       "    }\n",
       "\n",
       "    .dataframe tbody tr th {\n",
       "        vertical-align: top;\n",
       "    }\n",
       "\n",
       "    .dataframe thead th {\n",
       "        text-align: right;\n",
       "    }\n",
       "</style>\n",
       "<table border=\"1\" class=\"dataframe\">\n",
       "  <thead>\n",
       "    <tr style=\"text-align: right;\">\n",
       "      <th></th>\n",
       "      <th>title</th>\n",
       "      <th>director</th>\n",
       "      <th>cast</th>\n",
       "      <th>listed_in</th>\n",
       "      <th>description</th>\n",
       "      <th>movie_info</th>\n",
       "    </tr>\n",
       "  </thead>\n",
       "  <tbody>\n",
       "    <tr>\n",
       "      <th>0</th>\n",
       "      <td>Dick Johnson Is Dead</td>\n",
       "      <td>Kirsten Johnson</td>\n",
       "      <td>NaN</td>\n",
       "      <td>Documentaries</td>\n",
       "      <td>As her father nears the end of his life, filmm...</td>\n",
       "      <td>Dick Johnson Is Dead: As her father nears the ...</td>\n",
       "    </tr>\n",
       "    <tr>\n",
       "      <th>1</th>\n",
       "      <td>Blood &amp; Water</td>\n",
       "      <td>NaN</td>\n",
       "      <td>Ama Qamata, Khosi Ngema, Gail Mabalane, Thaban...</td>\n",
       "      <td>International TV Shows, TV Dramas, TV Mysteries</td>\n",
       "      <td>After crossing paths at a party, a Cape Town t...</td>\n",
       "      <td>Blood &amp; Water: After crossing paths at a party...</td>\n",
       "    </tr>\n",
       "    <tr>\n",
       "      <th>2</th>\n",
       "      <td>Ganglands</td>\n",
       "      <td>Julien Leclercq</td>\n",
       "      <td>Sami Bouajila, Tracy Gotoas, Samuel Jouy, Nabi...</td>\n",
       "      <td>Crime TV Shows, International TV Shows, TV Act...</td>\n",
       "      <td>To protect his family from a powerful drug lor...</td>\n",
       "      <td>Ganglands: To protect his family from a powerf...</td>\n",
       "    </tr>\n",
       "    <tr>\n",
       "      <th>3</th>\n",
       "      <td>Jailbirds New Orleans</td>\n",
       "      <td>NaN</td>\n",
       "      <td>NaN</td>\n",
       "      <td>Docuseries, Reality TV</td>\n",
       "      <td>Feuds, flirtations and toilet talk go down amo...</td>\n",
       "      <td>Jailbirds New Orleans: Feuds, flirtations and ...</td>\n",
       "    </tr>\n",
       "    <tr>\n",
       "      <th>4</th>\n",
       "      <td>Kota Factory</td>\n",
       "      <td>NaN</td>\n",
       "      <td>Mayur More, Jitendra Kumar, Ranjan Raj, Alam K...</td>\n",
       "      <td>International TV Shows, Romantic TV Shows, TV ...</td>\n",
       "      <td>In a city of coaching centers known to train I...</td>\n",
       "      <td>Kota Factory: In a city of coaching centers kn...</td>\n",
       "    </tr>\n",
       "  </tbody>\n",
       "</table>\n",
       "</div>"
      ],
      "text/plain": [
       "                   title         director  \\\n",
       "0   Dick Johnson Is Dead  Kirsten Johnson   \n",
       "1          Blood & Water              NaN   \n",
       "2              Ganglands  Julien Leclercq   \n",
       "3  Jailbirds New Orleans              NaN   \n",
       "4           Kota Factory              NaN   \n",
       "\n",
       "                                                cast  \\\n",
       "0                                                NaN   \n",
       "1  Ama Qamata, Khosi Ngema, Gail Mabalane, Thaban...   \n",
       "2  Sami Bouajila, Tracy Gotoas, Samuel Jouy, Nabi...   \n",
       "3                                                NaN   \n",
       "4  Mayur More, Jitendra Kumar, Ranjan Raj, Alam K...   \n",
       "\n",
       "                                           listed_in  \\\n",
       "0                                      Documentaries   \n",
       "1    International TV Shows, TV Dramas, TV Mysteries   \n",
       "2  Crime TV Shows, International TV Shows, TV Act...   \n",
       "3                             Docuseries, Reality TV   \n",
       "4  International TV Shows, Romantic TV Shows, TV ...   \n",
       "\n",
       "                                         description  \\\n",
       "0  As her father nears the end of his life, filmm...   \n",
       "1  After crossing paths at a party, a Cape Town t...   \n",
       "2  To protect his family from a powerful drug lor...   \n",
       "3  Feuds, flirtations and toilet talk go down amo...   \n",
       "4  In a city of coaching centers known to train I...   \n",
       "\n",
       "                                          movie_info  \n",
       "0  Dick Johnson Is Dead: As her father nears the ...  \n",
       "1  Blood & Water: After crossing paths at a party...  \n",
       "2  Ganglands: To protect his family from a powerf...  \n",
       "3  Jailbirds New Orleans: Feuds, flirtations and ...  \n",
       "4  Kota Factory: In a city of coaching centers kn...  "
      ]
     },
     "execution_count": 11,
     "metadata": {},
     "output_type": "execute_result"
    }
   ],
   "source": [
    "df.head()"
   ]
  },
  {
   "cell_type": "code",
   "execution_count": 12,
   "id": "e4c58c9d-fd8e-489d-a6cd-dae20c623022",
   "metadata": {
    "tags": []
   },
   "outputs": [
    {
     "name": "stderr",
     "output_type": "stream",
     "text": [
      "C:\\Users\\Lenovo\\AppData\\Local\\Temp\\ipykernel_31828\\1361245944.py:1: SettingWithCopyWarning: \n",
      "A value is trying to be set on a copy of a slice from a DataFrame\n",
      "\n",
      "See the caveats in the documentation: https://pandas.pydata.org/pandas-docs/stable/user_guide/indexing.html#returning-a-view-versus-a-copy\n",
      "  df.director.fillna(\"\", inplace=True)\n"
     ]
    }
   ],
   "source": [
    "df.director.fillna(\"\", inplace=True)"
   ]
  },
  {
   "cell_type": "code",
   "execution_count": 13,
   "id": "c1080872-4bba-4d75-8363-4b7a04cb8f92",
   "metadata": {
    "tags": []
   },
   "outputs": [
    {
     "name": "stderr",
     "output_type": "stream",
     "text": [
      "C:\\Users\\Lenovo\\AppData\\Local\\Temp\\ipykernel_31828\\3696203126.py:1: SettingWithCopyWarning: \n",
      "A value is trying to be set on a copy of a slice from a DataFrame\n",
      "\n",
      "See the caveats in the documentation: https://pandas.pydata.org/pandas-docs/stable/user_guide/indexing.html#returning-a-view-versus-a-copy\n",
      "  df.cast.fillna(\"\",inplace=True)\n"
     ]
    }
   ],
   "source": [
    "df.cast.fillna(\"\",inplace=True)"
   ]
  },
  {
   "cell_type": "code",
   "execution_count": 14,
   "id": "2076df96-560f-4bc2-8cc9-77c6460bd87f",
   "metadata": {
    "tags": []
   },
   "outputs": [
    {
     "data": {
      "text/plain": [
       "title          0\n",
       "director       0\n",
       "cast           0\n",
       "listed_in      0\n",
       "description    0\n",
       "movie_info     0\n",
       "dtype: int64"
      ]
     },
     "execution_count": 14,
     "metadata": {},
     "output_type": "execute_result"
    }
   ],
   "source": [
    "df.isnull().sum()"
   ]
  },
  {
   "cell_type": "code",
   "execution_count": 15,
   "id": "adc5808b-3fef-4608-800b-c1a0bd920723",
   "metadata": {
    "tags": []
   },
   "outputs": [
    {
     "data": {
      "text/html": [
       "<div>\n",
       "<style scoped>\n",
       "    .dataframe tbody tr th:only-of-type {\n",
       "        vertical-align: middle;\n",
       "    }\n",
       "\n",
       "    .dataframe tbody tr th {\n",
       "        vertical-align: top;\n",
       "    }\n",
       "\n",
       "    .dataframe thead th {\n",
       "        text-align: right;\n",
       "    }\n",
       "</style>\n",
       "<table border=\"1\" class=\"dataframe\">\n",
       "  <thead>\n",
       "    <tr style=\"text-align: right;\">\n",
       "      <th></th>\n",
       "      <th>title</th>\n",
       "      <th>director</th>\n",
       "      <th>cast</th>\n",
       "      <th>listed_in</th>\n",
       "      <th>description</th>\n",
       "      <th>movie_info</th>\n",
       "    </tr>\n",
       "  </thead>\n",
       "  <tbody>\n",
       "    <tr>\n",
       "      <th>0</th>\n",
       "      <td>Dick Johnson Is Dead</td>\n",
       "      <td>Kirsten Johnson</td>\n",
       "      <td></td>\n",
       "      <td>Documentaries</td>\n",
       "      <td>As her father nears the end of his life, filmm...</td>\n",
       "      <td>Dick Johnson Is Dead: As her father nears the ...</td>\n",
       "    </tr>\n",
       "    <tr>\n",
       "      <th>1</th>\n",
       "      <td>Blood &amp; Water</td>\n",
       "      <td></td>\n",
       "      <td>Ama Qamata, Khosi Ngema, Gail Mabalane, Thaban...</td>\n",
       "      <td>International TV Shows, TV Dramas, TV Mysteries</td>\n",
       "      <td>After crossing paths at a party, a Cape Town t...</td>\n",
       "      <td>Blood &amp; Water: After crossing paths at a party...</td>\n",
       "    </tr>\n",
       "    <tr>\n",
       "      <th>2</th>\n",
       "      <td>Ganglands</td>\n",
       "      <td>Julien Leclercq</td>\n",
       "      <td>Sami Bouajila, Tracy Gotoas, Samuel Jouy, Nabi...</td>\n",
       "      <td>Crime TV Shows, International TV Shows, TV Act...</td>\n",
       "      <td>To protect his family from a powerful drug lor...</td>\n",
       "      <td>Ganglands: To protect his family from a powerf...</td>\n",
       "    </tr>\n",
       "    <tr>\n",
       "      <th>3</th>\n",
       "      <td>Jailbirds New Orleans</td>\n",
       "      <td></td>\n",
       "      <td></td>\n",
       "      <td>Docuseries, Reality TV</td>\n",
       "      <td>Feuds, flirtations and toilet talk go down amo...</td>\n",
       "      <td>Jailbirds New Orleans: Feuds, flirtations and ...</td>\n",
       "    </tr>\n",
       "    <tr>\n",
       "      <th>4</th>\n",
       "      <td>Kota Factory</td>\n",
       "      <td></td>\n",
       "      <td>Mayur More, Jitendra Kumar, Ranjan Raj, Alam K...</td>\n",
       "      <td>International TV Shows, Romantic TV Shows, TV ...</td>\n",
       "      <td>In a city of coaching centers known to train I...</td>\n",
       "      <td>Kota Factory: In a city of coaching centers kn...</td>\n",
       "    </tr>\n",
       "  </tbody>\n",
       "</table>\n",
       "</div>"
      ],
      "text/plain": [
       "                   title         director  \\\n",
       "0   Dick Johnson Is Dead  Kirsten Johnson   \n",
       "1          Blood & Water                    \n",
       "2              Ganglands  Julien Leclercq   \n",
       "3  Jailbirds New Orleans                    \n",
       "4           Kota Factory                    \n",
       "\n",
       "                                                cast  \\\n",
       "0                                                      \n",
       "1  Ama Qamata, Khosi Ngema, Gail Mabalane, Thaban...   \n",
       "2  Sami Bouajila, Tracy Gotoas, Samuel Jouy, Nabi...   \n",
       "3                                                      \n",
       "4  Mayur More, Jitendra Kumar, Ranjan Raj, Alam K...   \n",
       "\n",
       "                                           listed_in  \\\n",
       "0                                      Documentaries   \n",
       "1    International TV Shows, TV Dramas, TV Mysteries   \n",
       "2  Crime TV Shows, International TV Shows, TV Act...   \n",
       "3                             Docuseries, Reality TV   \n",
       "4  International TV Shows, Romantic TV Shows, TV ...   \n",
       "\n",
       "                                         description  \\\n",
       "0  As her father nears the end of his life, filmm...   \n",
       "1  After crossing paths at a party, a Cape Town t...   \n",
       "2  To protect his family from a powerful drug lor...   \n",
       "3  Feuds, flirtations and toilet talk go down amo...   \n",
       "4  In a city of coaching centers known to train I...   \n",
       "\n",
       "                                          movie_info  \n",
       "0  Dick Johnson Is Dead: As her father nears the ...  \n",
       "1  Blood & Water: After crossing paths at a party...  \n",
       "2  Ganglands: To protect his family from a powerf...  \n",
       "3  Jailbirds New Orleans: Feuds, flirtations and ...  \n",
       "4  Kota Factory: In a city of coaching centers kn...  "
      ]
     },
     "execution_count": 15,
     "metadata": {},
     "output_type": "execute_result"
    }
   ],
   "source": [
    "df.head()"
   ]
  },
  {
   "cell_type": "markdown",
   "id": "1a004501-6901-41e0-a09c-6fdfd9ef175a",
   "metadata": {},
   "source": [
    "## Build Recommendation System"
   ]
  },
  {
   "cell_type": "code",
   "execution_count": 16,
   "id": "5361448b-f331-49d9-af98-e5327b719fcf",
   "metadata": {
    "tags": []
   },
   "outputs": [
    {
     "name": "stderr",
     "output_type": "stream",
     "text": [
      "[nltk_data] Downloading package stopwords to\n",
      "[nltk_data]     C:\\Users\\Lenovo\\AppData\\Roaming\\nltk_data...\n",
      "[nltk_data]   Package stopwords is already up-to-date!\n"
     ]
    },
    {
     "data": {
      "text/plain": [
       "8807"
      ]
     },
     "execution_count": 16,
     "metadata": {},
     "output_type": "execute_result"
    }
   ],
   "source": [
    "nltk.download('stopwords')\n",
    "\n",
    "stop_words = nltk.corpus.stopwords.words('english')\n",
    "\n",
    "def normalize_document(doc):\n",
    "    # lower case and remove special characters\\whitespaces\n",
    "    doc = re.sub(r'[^a-zA-Z0-9\\s]', '', doc, re.I|re.A)\n",
    "    doc = doc.lower()\n",
    "    doc = doc.strip()\n",
    "    # tokenize document\n",
    "    tokens = nltk.word_tokenize(doc)\n",
    "    # filter stopwords out of document\n",
    "    filtered_tokens = [token for token in tokens if token not in stop_words]\n",
    "    # re-create document from filtered tokens\n",
    "    doc = ' '.join(filtered_tokens)\n",
    "    return doc\n",
    "normalize_corpus = np.vectorize(normalize_document)\n",
    "\n",
    "norm_corpus = normalize_corpus(list(df['movie_info']))\n",
    "len(norm_corpus)"
   ]
  },
  {
   "cell_type": "markdown",
   "id": "9fb43614-fe8c-4790-9d31-4b847b6ec84e",
   "metadata": {},
   "source": [
    "#### Extract TF-IDF Features"
   ]
  },
  {
   "cell_type": "code",
   "execution_count": 17,
   "id": "ea1ce025-cd11-4204-852a-24e1f30b94f9",
   "metadata": {
    "tags": []
   },
   "outputs": [
    {
     "data": {
      "text/plain": [
       "(8807, 20415)"
      ]
     },
     "execution_count": 17,
     "metadata": {},
     "output_type": "execute_result"
    }
   ],
   "source": [
    "from sklearn.feature_extraction.text import TfidfVectorizer\n",
    "\n",
    "tf = TfidfVectorizer(ngram_range=(1, 2), min_df=2)\n",
    "tfidf_matrix = tf.fit_transform(norm_corpus)\n",
    "tfidf_matrix.shape"
   ]
  },
  {
   "cell_type": "markdown",
   "id": "e6a4e37d-c501-43c3-93e8-deb4bf8af2dc",
   "metadata": {},
   "source": [
    "#### Compute Pairwise Document Similarity"
   ]
  },
  {
   "cell_type": "code",
   "execution_count": 18,
   "id": "8247423d-52b8-4eb1-93d4-aa3b9e6c8c98",
   "metadata": {
    "tags": []
   },
   "outputs": [
    {
     "data": {
      "text/html": [
       "<div>\n",
       "<style scoped>\n",
       "    .dataframe tbody tr th:only-of-type {\n",
       "        vertical-align: middle;\n",
       "    }\n",
       "\n",
       "    .dataframe tbody tr th {\n",
       "        vertical-align: top;\n",
       "    }\n",
       "\n",
       "    .dataframe thead th {\n",
       "        text-align: right;\n",
       "    }\n",
       "</style>\n",
       "<table border=\"1\" class=\"dataframe\">\n",
       "  <thead>\n",
       "    <tr style=\"text-align: right;\">\n",
       "      <th></th>\n",
       "      <th>0</th>\n",
       "      <th>1</th>\n",
       "      <th>2</th>\n",
       "      <th>3</th>\n",
       "      <th>4</th>\n",
       "      <th>5</th>\n",
       "      <th>6</th>\n",
       "      <th>7</th>\n",
       "      <th>8</th>\n",
       "      <th>9</th>\n",
       "      <th>...</th>\n",
       "      <th>8797</th>\n",
       "      <th>8798</th>\n",
       "      <th>8799</th>\n",
       "      <th>8800</th>\n",
       "      <th>8801</th>\n",
       "      <th>8802</th>\n",
       "      <th>8803</th>\n",
       "      <th>8804</th>\n",
       "      <th>8805</th>\n",
       "      <th>8806</th>\n",
       "    </tr>\n",
       "  </thead>\n",
       "  <tbody>\n",
       "    <tr>\n",
       "      <th>0</th>\n",
       "      <td>1.000000</td>\n",
       "      <td>0.0</td>\n",
       "      <td>0.0</td>\n",
       "      <td>0.0</td>\n",
       "      <td>0.010188</td>\n",
       "      <td>0.000000</td>\n",
       "      <td>0.000000</td>\n",
       "      <td>0.0</td>\n",
       "      <td>0.02517</td>\n",
       "      <td>0.010002</td>\n",
       "      <td>...</td>\n",
       "      <td>0.000000</td>\n",
       "      <td>0.0</td>\n",
       "      <td>0.000000</td>\n",
       "      <td>0.0</td>\n",
       "      <td>0.0</td>\n",
       "      <td>0.0</td>\n",
       "      <td>0.000000</td>\n",
       "      <td>0.00000</td>\n",
       "      <td>0.009286</td>\n",
       "      <td>0.000000</td>\n",
       "    </tr>\n",
       "    <tr>\n",
       "      <th>1</th>\n",
       "      <td>0.000000</td>\n",
       "      <td>1.0</td>\n",
       "      <td>0.0</td>\n",
       "      <td>0.0</td>\n",
       "      <td>0.000000</td>\n",
       "      <td>0.022271</td>\n",
       "      <td>0.035556</td>\n",
       "      <td>0.0</td>\n",
       "      <td>0.00000</td>\n",
       "      <td>0.000000</td>\n",
       "      <td>...</td>\n",
       "      <td>0.025141</td>\n",
       "      <td>0.0</td>\n",
       "      <td>0.040769</td>\n",
       "      <td>0.0</td>\n",
       "      <td>0.0</td>\n",
       "      <td>0.0</td>\n",
       "      <td>0.021771</td>\n",
       "      <td>0.00000</td>\n",
       "      <td>0.000000</td>\n",
       "      <td>0.000000</td>\n",
       "    </tr>\n",
       "    <tr>\n",
       "      <th>2</th>\n",
       "      <td>0.000000</td>\n",
       "      <td>0.0</td>\n",
       "      <td>1.0</td>\n",
       "      <td>0.0</td>\n",
       "      <td>0.000000</td>\n",
       "      <td>0.000000</td>\n",
       "      <td>0.000000</td>\n",
       "      <td>0.0</td>\n",
       "      <td>0.00000</td>\n",
       "      <td>0.000000</td>\n",
       "      <td>...</td>\n",
       "      <td>0.000000</td>\n",
       "      <td>0.0</td>\n",
       "      <td>0.000000</td>\n",
       "      <td>0.0</td>\n",
       "      <td>0.0</td>\n",
       "      <td>0.0</td>\n",
       "      <td>0.000000</td>\n",
       "      <td>0.00000</td>\n",
       "      <td>0.000000</td>\n",
       "      <td>0.015696</td>\n",
       "    </tr>\n",
       "    <tr>\n",
       "      <th>3</th>\n",
       "      <td>0.000000</td>\n",
       "      <td>0.0</td>\n",
       "      <td>0.0</td>\n",
       "      <td>1.0</td>\n",
       "      <td>0.000000</td>\n",
       "      <td>0.000000</td>\n",
       "      <td>0.020382</td>\n",
       "      <td>0.0</td>\n",
       "      <td>0.00000</td>\n",
       "      <td>0.000000</td>\n",
       "      <td>...</td>\n",
       "      <td>0.000000</td>\n",
       "      <td>0.0</td>\n",
       "      <td>0.000000</td>\n",
       "      <td>0.0</td>\n",
       "      <td>0.0</td>\n",
       "      <td>0.0</td>\n",
       "      <td>0.000000</td>\n",
       "      <td>0.00000</td>\n",
       "      <td>0.018029</td>\n",
       "      <td>0.000000</td>\n",
       "    </tr>\n",
       "    <tr>\n",
       "      <th>4</th>\n",
       "      <td>0.010188</td>\n",
       "      <td>0.0</td>\n",
       "      <td>0.0</td>\n",
       "      <td>0.0</td>\n",
       "      <td>1.000000</td>\n",
       "      <td>0.000000</td>\n",
       "      <td>0.000000</td>\n",
       "      <td>0.0</td>\n",
       "      <td>0.00000</td>\n",
       "      <td>0.011276</td>\n",
       "      <td>...</td>\n",
       "      <td>0.000000</td>\n",
       "      <td>0.0</td>\n",
       "      <td>0.000000</td>\n",
       "      <td>0.0</td>\n",
       "      <td>0.0</td>\n",
       "      <td>0.0</td>\n",
       "      <td>0.000000</td>\n",
       "      <td>0.03533</td>\n",
       "      <td>0.047689</td>\n",
       "      <td>0.000000</td>\n",
       "    </tr>\n",
       "  </tbody>\n",
       "</table>\n",
       "<p>5 rows × 8807 columns</p>\n",
       "</div>"
      ],
      "text/plain": [
       "       0     1     2     3         4         5         6     7        8     \\\n",
       "0  1.000000   0.0   0.0   0.0  0.010188  0.000000  0.000000   0.0  0.02517   \n",
       "1  0.000000   1.0   0.0   0.0  0.000000  0.022271  0.035556   0.0  0.00000   \n",
       "2  0.000000   0.0   1.0   0.0  0.000000  0.000000  0.000000   0.0  0.00000   \n",
       "3  0.000000   0.0   0.0   1.0  0.000000  0.000000  0.020382   0.0  0.00000   \n",
       "4  0.010188   0.0   0.0   0.0  1.000000  0.000000  0.000000   0.0  0.00000   \n",
       "\n",
       "       9     ...      8797  8798      8799  8800  8801  8802      8803  \\\n",
       "0  0.010002  ...  0.000000   0.0  0.000000   0.0   0.0   0.0  0.000000   \n",
       "1  0.000000  ...  0.025141   0.0  0.040769   0.0   0.0   0.0  0.021771   \n",
       "2  0.000000  ...  0.000000   0.0  0.000000   0.0   0.0   0.0  0.000000   \n",
       "3  0.000000  ...  0.000000   0.0  0.000000   0.0   0.0   0.0  0.000000   \n",
       "4  0.011276  ...  0.000000   0.0  0.000000   0.0   0.0   0.0  0.000000   \n",
       "\n",
       "      8804      8805      8806  \n",
       "0  0.00000  0.009286  0.000000  \n",
       "1  0.00000  0.000000  0.000000  \n",
       "2  0.00000  0.000000  0.015696  \n",
       "3  0.00000  0.018029  0.000000  \n",
       "4  0.03533  0.047689  0.000000  \n",
       "\n",
       "[5 rows x 8807 columns]"
      ]
     },
     "execution_count": 18,
     "metadata": {},
     "output_type": "execute_result"
    }
   ],
   "source": [
    "from sklearn.metrics.pairwise import cosine_similarity\n",
    "\n",
    "doc_sim = cosine_similarity(tfidf_matrix)\n",
    "doc_sim_df = pd.DataFrame(doc_sim)\n",
    "doc_sim_df.head()"
   ]
  },
  {
   "cell_type": "markdown",
   "id": "86e13ae2-8f49-4570-bc3f-32490a379dea",
   "metadata": {},
   "source": [
    "#### Get List of Movies Titles"
   ]
  },
  {
   "cell_type": "code",
   "execution_count": 19,
   "id": "e0034b57-aa7e-4051-b6a7-f6111dcd17c0",
   "metadata": {
    "tags": []
   },
   "outputs": [
    {
     "data": {
      "text/plain": [
       "array(['Dick Johnson Is Dead', 'Blood & Water', 'Ganglands', ...,\n",
       "       'Zombieland', 'Zoom', 'Zubaan'], dtype=object)"
      ]
     },
     "execution_count": 19,
     "metadata": {},
     "output_type": "execute_result"
    }
   ],
   "source": [
    "movies_list = df['title'].values\n",
    "movies_list"
   ]
  },
  {
   "cell_type": "code",
   "execution_count": 20,
   "id": "26a01b94-b00e-4d73-bbb2-09f5f3328231",
   "metadata": {
    "tags": []
   },
   "outputs": [
    {
     "data": {
      "text/plain": [
       "(8807,)"
      ]
     },
     "execution_count": 20,
     "metadata": {},
     "output_type": "execute_result"
    }
   ],
   "source": [
    "movies_list.shape"
   ]
  },
  {
   "cell_type": "markdown",
   "id": "1d49a6e5-2dc6-4c0d-b0a3-1d08650f4b74",
   "metadata": {},
   "source": [
    "#### Find Top Similar Movies for a Sample Movie"
   ]
  },
  {
   "cell_type": "code",
   "execution_count": 21,
   "id": "7eb26f99-5971-416d-bb5d-895fe08183f0",
   "metadata": {
    "tags": []
   },
   "outputs": [
    {
     "data": {
      "text/plain": [
       "0"
      ]
     },
     "execution_count": 21,
     "metadata": {},
     "output_type": "execute_result"
    }
   ],
   "source": [
    "# Find movie ID\n",
    "movie_id = np.where(movies_list == 'Dick Johnson Is Dead')[0][0]\n",
    "movie_id"
   ]
  },
  {
   "cell_type": "markdown",
   "id": "a70482a2-4165-4410-bfac-24b478a2b192",
   "metadata": {
    "tags": []
   },
   "source": [
    "#### Get Similar Movies"
   ]
  },
  {
   "cell_type": "code",
   "execution_count": 22,
   "id": "322fc8ad-9a1c-4ab9-9f2b-be0d113f0785",
   "metadata": {
    "tags": []
   },
   "outputs": [
    {
     "data": {
      "text/plain": [
       "array([1.       , 0.       , 0.       , ..., 0.       , 0.0092863,\n",
       "       0.       ])"
      ]
     },
     "execution_count": 22,
     "metadata": {},
     "output_type": "execute_result"
    }
   ],
   "source": [
    "movie_similarities = doc_sim_df.iloc[movie_id].values\n",
    "movie_similarities"
   ]
  },
  {
   "cell_type": "markdown",
   "id": "e54ba697-7b1b-42c4-8ab4-26c5db5c1645",
   "metadata": {},
   "source": [
    "#### Get Top 5 Similar Movies"
   ]
  },
  {
   "cell_type": "code",
   "execution_count": 23,
   "id": "36b2400a-ce49-4edb-b7a2-9bc1f4e9bbd9",
   "metadata": {
    "tags": []
   },
   "outputs": [
    {
     "data": {
      "text/plain": [
       "array([5233, 7506, 4086, 4877, 1171], dtype=int64)"
      ]
     },
     "execution_count": 23,
     "metadata": {},
     "output_type": "execute_result"
    }
   ],
   "source": [
    "similar_movie_id = np.argsort(-movie_similarities)[1:6]\n",
    "similar_movie_id"
   ]
  },
  {
   "cell_type": "code",
   "execution_count": 24,
   "id": "691709a7-3969-4324-bfd1-964476b43f44",
   "metadata": {
    "tags": []
   },
   "outputs": [
    {
     "data": {
      "text/plain": [
       "array(['The Death and Life of Marsha P. Johnson', 'Moon', 'Paddleton',\n",
       "       'End Game', 'Seaspiracy'], dtype=object)"
      ]
     },
     "execution_count": 24,
     "metadata": {},
     "output_type": "execute_result"
    }
   ],
   "source": [
    "similar_movies = movies_list[similar_movie_id]\n",
    "similar_movies"
   ]
  },
  {
   "cell_type": "markdown",
   "id": "3db39b6f-599e-4dbf-b9e3-3fcb3d63f270",
   "metadata": {},
   "source": [
    "## Build a Movie Recommender Function to Recommend Top 5 Similar Movies For Any Movie"
   ]
  },
  {
   "cell_type": "markdown",
   "id": "b14e5dcb-1362-4175-b721-a7f6c1f261ca",
   "metadata": {
    "tags": []
   },
   "source": [
    "#### The movie title, movie title list and document similarity matrix dataframe will be given as inputs to the function"
   ]
  },
  {
   "cell_type": "code",
   "execution_count": 25,
   "id": "e2df8a07-8ba6-4f07-b44c-c68e0cc367ae",
   "metadata": {
    "tags": []
   },
   "outputs": [],
   "source": [
    "def movie_recommender(movie_title, movies=movies_list, doc_sims=doc_sim_df):\n",
    "    # find movie id\n",
    "    movie_idx = np.where(movies == movie_title)[0][0]\n",
    "    # get movie similarities\n",
    "    movie_similarities = doc_sims.iloc[movie_idx].values\n",
    "    # get top 5 similar movie IDs\n",
    "    similar_movie_idxs = np.argsort(-movie_similarities)[1:6]\n",
    "    # get top 5 movies\n",
    "    similar_movies = movies[similar_movie_idxs]\n",
    "    # return the top 5 movies\n",
    "    return similar_movies"
   ]
  },
  {
   "cell_type": "code",
   "execution_count": 26,
   "id": "05e21e45-eecb-46af-964a-2d8316cded18",
   "metadata": {
    "tags": []
   },
   "outputs": [
    {
     "data": {
      "text/plain": [
       "Index(['title', 'director', 'cast', 'listed_in', 'description', 'movie_info'], dtype='object')"
      ]
     },
     "execution_count": 26,
     "metadata": {},
     "output_type": "execute_result"
    }
   ],
   "source": [
    "df.columns"
   ]
  },
  {
   "cell_type": "code",
   "execution_count": 27,
   "id": "cc0fc195-d384-45d7-a5c0-7ef62da73aba",
   "metadata": {
    "tags": []
   },
   "outputs": [
    {
     "data": {
      "text/html": [
       "<div>\n",
       "<style scoped>\n",
       "    .dataframe tbody tr th:only-of-type {\n",
       "        vertical-align: middle;\n",
       "    }\n",
       "\n",
       "    .dataframe tbody tr th {\n",
       "        vertical-align: top;\n",
       "    }\n",
       "\n",
       "    .dataframe thead th {\n",
       "        text-align: right;\n",
       "    }\n",
       "</style>\n",
       "<table border=\"1\" class=\"dataframe\">\n",
       "  <thead>\n",
       "    <tr style=\"text-align: right;\">\n",
       "      <th></th>\n",
       "      <th>title</th>\n",
       "      <th>director</th>\n",
       "      <th>cast</th>\n",
       "      <th>listed_in</th>\n",
       "      <th>description</th>\n",
       "      <th>movie_info</th>\n",
       "    </tr>\n",
       "  </thead>\n",
       "  <tbody>\n",
       "    <tr>\n",
       "      <th>982</th>\n",
       "      <td>Hayat Öpücügü</td>\n",
       "      <td>Şenol Sönmez</td>\n",
       "      <td>Ali Sunal, Hatice Şendil, Ayda Aksel, Ahmet Sa...</td>\n",
       "      <td>Comedies, Dramas, International Movies</td>\n",
       "      <td>High-strung Metin finally stops seeing doom an...</td>\n",
       "      <td>Hayat Öpücügü: High-strung Metin finally stops...</td>\n",
       "    </tr>\n",
       "    <tr>\n",
       "      <th>3533</th>\n",
       "      <td>Kill Me If You Dare</td>\n",
       "      <td>Şenol Sönmez</td>\n",
       "      <td>Murat Boz, Seda Bakan, Açelya Topaloğlu, Özgür...</td>\n",
       "      <td>Comedies, International Movies, Romantic Movies</td>\n",
       "      <td>Bogged down with money problems, a couple grow...</td>\n",
       "      <td>Kill Me If You Dare: Bogged down with money pr...</td>\n",
       "    </tr>\n",
       "    <tr>\n",
       "      <th>981</th>\n",
       "      <td>G.O.R.A</td>\n",
       "      <td>Ömer Faruk Sorak</td>\n",
       "      <td>Cem Yılmaz, Rasim Öztekin, Özkan Uğur, İdil Fı...</td>\n",
       "      <td>Action &amp; Adventure, Comedies, International Mo...</td>\n",
       "      <td>Carpet dealer and UFO photo forger Arif is abd...</td>\n",
       "      <td>G.O.R.A: Carpet dealer and UFO photo forger Ar...</td>\n",
       "    </tr>\n",
       "    <tr>\n",
       "      <th>6070</th>\n",
       "      <td>Aşk Tesadüfleri Sever</td>\n",
       "      <td>Ömer Faruk Sorak</td>\n",
       "      <td>Mehmet Günsür, Belçim Bilgin, Ayda Aksel, Alta...</td>\n",
       "      <td>Dramas, International Movies, Romantic Movies</td>\n",
       "      <td>A series of coincidences brings two star-cross...</td>\n",
       "      <td>Aşk Tesadüfleri Sever: A series of coincidence...</td>\n",
       "    </tr>\n",
       "    <tr>\n",
       "      <th>5975</th>\n",
       "      <td>Ég man þig</td>\n",
       "      <td>Óskar Thór Axelsson</td>\n",
       "      <td>Jóhannes Haukur Jóhannesson, Ágústa Eva Erlend...</td>\n",
       "      <td>Horror Movies, International Movies</td>\n",
       "      <td>Young urbanites renovating a rundown house, an...</td>\n",
       "      <td>Ég man þig: Young urbanites renovating a rundo...</td>\n",
       "    </tr>\n",
       "  </tbody>\n",
       "</table>\n",
       "</div>"
      ],
      "text/plain": [
       "                      title             director  \\\n",
       "982           Hayat Öpücügü         Şenol Sönmez   \n",
       "3533    Kill Me If You Dare         Şenol Sönmez   \n",
       "981                 G.O.R.A     Ömer Faruk Sorak   \n",
       "6070  Aşk Tesadüfleri Sever     Ömer Faruk Sorak   \n",
       "5975             Ég man þig  Óskar Thór Axelsson   \n",
       "\n",
       "                                                   cast  \\\n",
       "982   Ali Sunal, Hatice Şendil, Ayda Aksel, Ahmet Sa...   \n",
       "3533  Murat Boz, Seda Bakan, Açelya Topaloğlu, Özgür...   \n",
       "981   Cem Yılmaz, Rasim Öztekin, Özkan Uğur, İdil Fı...   \n",
       "6070  Mehmet Günsür, Belçim Bilgin, Ayda Aksel, Alta...   \n",
       "5975  Jóhannes Haukur Jóhannesson, Ágústa Eva Erlend...   \n",
       "\n",
       "                                              listed_in  \\\n",
       "982              Comedies, Dramas, International Movies   \n",
       "3533    Comedies, International Movies, Romantic Movies   \n",
       "981   Action & Adventure, Comedies, International Mo...   \n",
       "6070      Dramas, International Movies, Romantic Movies   \n",
       "5975                Horror Movies, International Movies   \n",
       "\n",
       "                                            description  \\\n",
       "982   High-strung Metin finally stops seeing doom an...   \n",
       "3533  Bogged down with money problems, a couple grow...   \n",
       "981   Carpet dealer and UFO photo forger Arif is abd...   \n",
       "6070  A series of coincidences brings two star-cross...   \n",
       "5975  Young urbanites renovating a rundown house, an...   \n",
       "\n",
       "                                             movie_info  \n",
       "982   Hayat Öpücügü: High-strung Metin finally stops...  \n",
       "3533  Kill Me If You Dare: Bogged down with money pr...  \n",
       "981   G.O.R.A: Carpet dealer and UFO photo forger Ar...  \n",
       "6070  Aşk Tesadüfleri Sever: A series of coincidence...  \n",
       "5975  Ég man þig: Young urbanites renovating a rundo...  "
      ]
     },
     "execution_count": 27,
     "metadata": {},
     "output_type": "execute_result"
    }
   ],
   "source": [
    "pop_movies = df.sort_values(by='director', ascending=False)\n",
    "pop_movies.head()"
   ]
  },
  {
   "cell_type": "code",
   "execution_count": 28,
   "id": "249d2bc2-5245-41dc-af75-455c3984e9d8",
   "metadata": {
    "tags": []
   },
   "outputs": [
    {
     "data": {
      "text/plain": [
       "array(['Dick Johnson Is Dead', 'Blood & Water', 'Ganglands',\n",
       "       'Jailbirds New Orleans', 'Kota Factory', 'Midnight Mass',\n",
       "       'My Little Pony: A New Generation', 'Sankofa',\n",
       "       'The Great British Baking Show', 'The Starling',\n",
       "       'Vendetta: Truth, Lies and The Mafia', 'Bangkok Breaking',\n",
       "       'Je Suis Karl', 'Confessions of an Invisible Girl',\n",
       "       'Crime Stories: India Detectives', 'Dear White People',\n",
       "       \"Europe's Most Dangerous Man: Otto Skorzeny in Spain\",\n",
       "       'Falsa identidad', 'Intrusion', 'Jaguar',\n",
       "       'Monsters Inside: The 24 Faces of Billy Milligan',\n",
       "       'Resurrection: Ertugrul', 'Avvai Shanmughi',\n",
       "       'Go! Go! Cory Carson: Chrissy Takes the Wheel', 'Jeans',\n",
       "       'Love on the Spectrum', 'Minsara Kanavu', 'Grown Ups',\n",
       "       'Dark Skies', 'Paranoia', 'Ankahi Kahaniya', 'Chicago Party Aunt',\n",
       "       'Sex Education', 'Squid Game', 'Tayo and Little Wizards',\n",
       "       'The Father Who Moves Mountains', 'The Stronghold', 'Angry Birds',\n",
       "       'Birth of the Dragon', 'Chhota Bheem',\n",
       "       'He-Man and the Masters of the Universe', 'Jaws', 'Jaws 2',\n",
       "       'Jaws 3', 'Jaws: The Revenge', 'My Heroes Were Cowboys',\n",
       "       'Safe House', 'The Smart Money Woman', 'Training Day',\n",
       "       'Castle and Castle'], dtype=object)"
      ]
     },
     "execution_count": 28,
     "metadata": {},
     "output_type": "execute_result"
    }
   ],
   "source": [
    "df.title.values[:50]"
   ]
  },
  {
   "cell_type": "code",
   "execution_count": 29,
   "id": "7e98cde9-1d7b-4334-97d5-11bfe58dd848",
   "metadata": {
    "tags": []
   },
   "outputs": [],
   "source": [
    "col=df.title.values[:50]"
   ]
  },
  {
   "cell_type": "markdown",
   "id": "10e5c4ad-9f7a-490d-b3f2-d7849b0d49c7",
   "metadata": {},
   "source": [
    "## Get Popular Movie Recommendations"
   ]
  },
  {
   "cell_type": "code",
   "execution_count": 30,
   "id": "e287ddb7-b9b2-4e01-93cf-45b1c4cd6fee",
   "metadata": {
    "tags": []
   },
   "outputs": [
    {
     "name": "stdout",
     "output_type": "stream",
     "text": [
      "Movie: Dick Johnson Is Dead\n",
      "Top 5 recommended Movies: ['The Death and Life of Marsha P. Johnson' 'Moon' 'Paddleton' 'End Game'\n",
      " 'Seaspiracy']\n",
      "\n",
      "Movie: Blood & Water\n",
      "Top 5 recommended Movies: ['Lion Pride' 'Message from the King' 'Walk Away from Love' 'Next Enti?'\n",
      " 'Lady in the Water']\n",
      "\n",
      "Movie: Ganglands\n",
      "Top 5 recommended Movies: ['Bright' 'Narcos' 'The River Thief' 'Miss Dynamite'\n",
      " \"The Eagle of El-Se'eed\"]\n",
      "\n",
      "Movie: Jailbirds New Orleans\n",
      "Top 5 recommended Movies: ['Project Power' 'The Originals' 'The Runner' 'Cut Throat City'\n",
      " 'The Haunted Hathaways']\n",
      "\n",
      "Movie: Kota Factory\n",
      "Top 5 recommended Movies: ['The Roommate' 'Sexify' 'Dude' 'Criminal Minds' 'Train of the Dead']\n",
      "\n",
      "Movie: Midnight Mass\n",
      "Top 5 recommended Movies: ['There Will Be Blood' 'Holy Goalie' 'Until Midnight'\n",
      " 'La Rosa de Guadalupe' 'Midnight Special']\n",
      "\n",
      "Movie: My Little Pony: A New Generation\n",
      "Top 5 recommended Movies: ['My Little Pony Equestria Girls: Legend of Everfree'\n",
      " 'My Little Pony Friendship Is Magic: Best Gift Ever'\n",
      " 'My Little Pony: Friendship Is Magic' 'Honey 2' 'Civilizations']\n",
      "\n",
      "Movie: Sankofa\n",
      "Top 5 recommended Movies: ['When We First Met' 'The Hunt' 'One More Time' 'Erased'\n",
      " 'Care Bears: Welcome to Care-a-Lot']\n",
      "\n",
      "Movie: The Great British Baking Show\n",
      "Top 5 recommended Movies: ['The Great British Baking Show: The Beginnings'\n",
      " 'The Great British Baking Show: Masterclass'\n",
      " 'The Great British Baking Show: Holidays' 'Nailed It! Mexico'\n",
      " 'Best Leftovers Ever!']\n",
      "\n",
      "Movie: The Starling\n",
      "Top 5 recommended Movies: ['Parasyte: The Maxim' 'The Lost Husband' \"Heaven's Garden\" 'Angel Eyes'\n",
      " 'The Fear']\n",
      "\n",
      "Movie: Vendetta: Truth, Lies and The Mafia\n",
      "Top 5 recommended Movies: ['Kill the Irishman' 'Bad Blood' 'Intelligence' 'Get Shorty'\n",
      " 'Once Upon a Time in London']\n",
      "\n",
      "Movie: Bangkok Breaking\n",
      "Top 5 recommended Movies: ['Ramji Londonwaley' 'Baaghi' 'Bangkok Buddies' 'Before I Fall' 'SCAMS']\n",
      "\n",
      "Movie: Je Suis Karl\n",
      "Top 5 recommended Movies: ['Victim Number 8' 'Peppermint' 'Clair Obscur' 'Colonia'\n",
      " 'Who Killed Little Gregory?']\n",
      "\n",
      "Movie: Confessions of an Invisible Girl\n",
      "Top 5 recommended Movies: ['The Outcasts' 'An Evening with Beverly Luff Linn' 'Bee Movie'\n",
      " 'The Haunting of Molly Hartley' 'Invisible City']\n",
      "\n",
      "Movie: Crime Stories: India Detectives\n",
      "Top 5 recommended Movies: ['Nature: Animals With Cameras' 'Love' \"World's Busiest Cities\" 'Saavat'\n",
      " 'Mission Istaanbul: Darr Ke Aagey Jeet Hai']\n",
      "\n",
      "Movie: Dear White People\n",
      "Top 5 recommended Movies: ['Wolves' 'Hello, Love, Goodbye' 'Sam Jay: 3 In The Morning'\n",
      " 'Life in Color with David Attenborough' 'So Not Worth It']\n",
      "\n",
      "Movie: Europe's Most Dangerous Man: Otto Skorzeny in Spain\n",
      "Top 5 recommended Movies: ['Le serment des Hitler' 'The Trip to Spain' 'Arctic Dogs'\n",
      " 'Kill Hitler! The Luck of the Devil' 'Vantage Point']\n",
      "\n",
      "Movie: Falsa identidad\n",
      "Top 5 recommended Movies: ['Ride or Die' 'Celebrity Marriage'\n",
      " 'Sleepless Society: Two Pillows & A Lost Soul' 'Maradona in Mexico'\n",
      " 'I Am Not Madame Bovary']\n",
      "\n",
      "Movie: Intrusion\n",
      "Top 5 recommended Movies: ['Guest House' 'The Black Room' 'Ibrahim a Fate to Define'\n",
      " 'Light in the Dark' 'Dark Light']\n",
      "\n",
      "Movie: Jaguar\n",
      "Top 5 recommended Movies: ['9' 'The Life Ahead' \"Defying the Nazis: The Sharps' War\" 'Suckseed'\n",
      " 'Look Out, Officer']\n",
      "\n",
      "Movie: Monsters Inside: The 24 Faces of Billy Milligan\n",
      "Top 5 recommended Movies: ['MINDHUNTER' 'Shelter' 'The Ripper' 'Billy on the Street' 'More to Say']\n",
      "\n",
      "Movie: Resurrection: Ertugrul\n",
      "Top 5 recommended Movies: ['Kilo Two Bravo' 'The Secret Diary of an Exchange Student'\n",
      " 'Kurt Seyit & Sura' \"100 Years: One Woman's Fight for Justice\" 'Betaal']\n",
      "\n",
      "Movie: Avvai Shanmughi\n",
      "Top 5 recommended Movies: ['Doubt' 'Project Papa' 'Bordertown' 'Growing Up Coy'\n",
      " 'Fate/Grand Order -First Order-']\n",
      "\n",
      "Movie: Go! Go! Cory Carson: Chrissy Takes the Wheel\n",
      "Top 5 recommended Movies: ['Go! Go! Cory Carson: The Chrissy' 'Go! Go! Cory Carson'\n",
      " 'A Go! Go! Cory Carson Halloween' 'A Go! Go! Cory Carson Christmas'\n",
      " 'A Go! Go! Cory Carson Summer Camp']\n",
      "\n",
      "Movie: Jeans\n",
      "Top 5 recommended Movies: ['Luv Kushh' 'Sinister 2' 'Sister, Sister' 'Twins Mission'\n",
      " 'Dolemite Is My Name']\n",
      "\n",
      "Movie: Love on the Spectrum\n",
      "Top 5 recommended Movies: ['Eeda' 'Atypical' \"Asperger's Are Us\" 'The Night Clerk' 'Summertime']\n",
      "\n",
      "Movie: Minsara Kanavu\n",
      "Top 5 recommended Movies: ['Little Sister' 'Strong Girl Bong-soon' 'Rangreza' 'Rivaaz'\n",
      " 'Bareilly Ki Barfi']\n",
      "\n",
      "Movie: Grown Ups\n",
      "Top 5 recommended Movies: ['Basketball or Nothing' 'Coach Carter' \"Kuroko's Basketball\" 'Hoops'\n",
      " \"He's Out There\"]\n",
      "\n",
      "Movie: Dark Skies\n",
      "Top 5 recommended Movies: ['Wakefield' 'Light in the Dark' 'This Little Love Of Mine' 'Skylines'\n",
      " 'Alien Worlds']\n",
      "\n",
      "Movie: Paranoia\n",
      "Top 5 recommended Movies: ['Palio' 'Ex Machina' 'Master' 'Blue Jasmine' 'Uriyadi 2']\n",
      "\n",
      "Movie: Ankahi Kahaniya\n",
      "Top 5 recommended Movies: ['Hedgehogs' 'Shtisel' 'My Girl' 'Jeff Garlin: Our Man In Chicago'\n",
      " 'Flavors of Youth: International Version']\n",
      "\n",
      "Movie: Chicago Party Aunt\n",
      "Top 5 recommended Movies: ['Chicago Med' 'Princess Cyd' 'Now More Than Ever: The History of Chicago'\n",
      " 'Murder Party' 'Drink Drank Drunk']\n",
      "\n",
      "Movie: Sex Education\n",
      "Top 5 recommended Movies: ['Bliss' \"Dawson's Creek\" 'Sex, Explained'\n",
      " 'Christiane Amanpour: Sex & Love Around the World' 'Mujeres arriba']\n",
      "\n",
      "Movie: Squid Game\n",
      "Top 5 recommended Movies: ['Free to Play' 'Eurovision Song Contest: The Story of Fire Saga'\n",
      " 'Talentime' 'Darwin’s Game' 'The Invitation']\n",
      "\n",
      "Movie: Tayo and Little Wizards\n",
      "Top 5 recommended Movies: ['Tayo the Little Bus' 'Tayo the Little Bus Movie: Mission Ace'\n",
      " 'Sakaling Maging Tayo' \"Liar's Dice\" 'Wizards: Tales of Arcadia']\n",
      "\n",
      "Movie: The Father Who Moves Mountains\n",
      "Top 5 recommended Movies: ['Waar' 'Colony' 'Abla Fahita: Drama Queen' 'The Package' 'Ugly']\n",
      "\n",
      "Movie: The Stronghold\n",
      "Top 5 recommended Movies: ['Blitz Patrollie' 'How to Fix a Drug Scandal' 'Marseille'\n",
      " 'Ask the Doctor' 'Carrie Pilby']\n",
      "\n",
      "Movie: Angry Birds\n",
      "Top 5 recommended Movies: ['The Angry Birds Movie 2' 'For the Birds' 'Dancing with the Birds'\n",
      " 'Tuca & Bertie' 'Beak & Brain: Genius Birds From Down Under']\n",
      "\n",
      "Movie: Birth of the Dragon\n",
      "Top 5 recommended Movies: ['The Legend of Bruce Lee' 'Panipat - The Great Betrayal'\n",
      " 'Chhota Bheem: Master of Shaolin' 'Kung Fu Magoo' 'Enter the Dragon']\n",
      "\n",
      "Movie: Chhota Bheem\n",
      "Top 5 recommended Movies: ['Chhota Bheem and the Curse of Damyaan' 'Chhota Bheem Ka Roosi Romanch'\n",
      " 'Chhota Bheem Aur Kaala Yodha' 'Chhota Bheem - Neeli Pahaadi'\n",
      " 'Chhota Bheem Kungfu Dhamaka']\n",
      "\n",
      "Movie: He-Man and the Masters of the Universe\n",
      "Top 5 recommended Movies: ['The Power of Grayskull: The Definitive History of He-Man and the Masters of the Universe'\n",
      " 'Masters of the Universe: Revelation'\n",
      " 'Revelations: The Masters of the Universe: Revelation Aftershow'\n",
      " 'Voltron: Legendary Defender' 'The Universe']\n",
      "\n",
      "Movie: Jaws\n",
      "Top 5 recommended Movies: ['Jaws: The Revenge' 'Jaws 2' 'Jaws 3' 'Ugly' 'Grandmaster']\n",
      "\n",
      "Movie: Jaws 2\n",
      "Top 5 recommended Movies: ['Jaws: The Revenge' 'Jaws' 'Jaws 3' 'The Women and the Murderer'\n",
      " 'USS Indianapolis: Men of Courage']\n",
      "\n",
      "Movie: Jaws 3\n",
      "Top 5 recommended Movies: ['Jaws: The Revenge' 'Jaws' 'Free Willy' 'Jaws 2' 'Discovering Bigfoot']\n",
      "\n",
      "Movie: Jaws: The Revenge\n",
      "Top 5 recommended Movies: ['Jaws 2' 'Jaws' 'Jaws 3' 'Soul Surfer' 'Cheer Squad']\n",
      "\n",
      "Movie: My Heroes Were Cowboys\n",
      "Top 5 recommended Movies: ['Dolemite Is My Name' 'The Flintstones' 'Banyuki'\n",
      " 'Rugrats in Paris: The Movie' 'Robin Hood: The Rebellion']\n",
      "\n",
      "Movie: Safe House\n",
      "Top 5 recommended Movies: ['The Take' 'Under Siege' '14 Cameras' 'Our House' 'The Strangers']\n",
      "\n",
      "Movie: The Smart Money Woman\n",
      "Top 5 recommended Movies: ['Get Shorty' 'Exclusive Edition' 'The White Tiger'\n",
      " 'Danur: I Can See Ghosts' 'Millennials']\n",
      "\n",
      "Movie: Training Day\n",
      "Top 5 recommended Movies: ['Look Out, Officer' 'One Day: Justice Delivered'\n",
      " 'Spider-Man: Into the Spider-Verse' 'Heartbreak High' 'Operation Mekong']\n",
      "\n",
      "Movie: Castle and Castle\n",
      "Top 5 recommended Movies: ['Secrets of Highclere Castle' 'Big Kill' 'Irada Pakka' 'Monster'\n",
      " 'Justice in the City']\n",
      "\n"
     ]
    }
   ],
   "source": [
    "for movie in col:\n",
    "    print('Movie:', movie)\n",
    "    print('Top 5 recommended Movies:', movie_recommender(movie_title=movie))\n",
    "    print()"
   ]
  },
  {
   "cell_type": "code",
   "execution_count": null,
   "id": "90d470b8-2f93-446c-95a8-9b9b343388a6",
   "metadata": {},
   "outputs": [],
   "source": []
  }
 ],
 "metadata": {
  "kernelspec": {
   "display_name": "Python 3 (ipykernel)",
   "language": "python",
   "name": "python3"
  },
  "language_info": {
   "codemirror_mode": {
    "name": "ipython",
    "version": 3
   },
   "file_extension": ".py",
   "mimetype": "text/x-python",
   "name": "python",
   "nbconvert_exporter": "python",
   "pygments_lexer": "ipython3",
   "version": "3.11.4"
  }
 },
 "nbformat": 4,
 "nbformat_minor": 5
}
